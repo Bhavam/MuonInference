{
 "cells": [
  {
   "cell_type": "code",
   "execution_count": 1,
   "metadata": {},
   "outputs": [],
   "source": [
    "import tensorflow as tf\n",
    "import matplotlib.pyplot as plt \n",
    "from sklearn.metrics import accuracy_score\n",
    "import numpy as np"
   ]
  },
  {
   "cell_type": "code",
   "execution_count": 2,
   "metadata": {},
   "outputs": [],
   "source": [
    "data=np.load(r\"C:\\Users\\HP.HP-PC\\dataset.npz\")\n",
    "data_X=data['variables']\n",
    "data_X=data_X[:,0:35]\n",
    "data_Y=data['parameters']\n",
    "data_Y=data_Y[:,0:1]"
   ]
  },
  {
   "cell_type": "markdown",
   "metadata": {},
   "source": [
    "Generating tensorflow Graph params"
   ]
  },
  {
   "cell_type": "code",
   "execution_count": null,
   "metadata": {},
   "outputs": [],
   "source": [
    "d=35\n",
    "n_hidden=10\n",
    "learning_rate=0.0001\n",
    "n_epochs=10\n",
    "batch_size=1000\n",
    "\n",
    "with tf.name_scope(\"placeholders\"):\n",
    "    x=tf.placeholder(tf.float32,(None,d))\n",
    "    y=tf.placeholder(tf.float32,(None,))\n",
    "\n",
    "with tf.name_scope(\"hidden_layer\"):\n",
    "    W=tf.Variable(tf.random_normal)"
   ]
  },
  {
   "cell_type": "code",
   "execution_count": null,
   "metadata": {},
   "outputs": [],
   "source": [
    "logits=[]"
   ]
  }
 ],
 "metadata": {
  "kernelspec": {
   "display_name": "machine-learning",
   "language": "python",
   "name": "machine-learning"
  },
  "language_info": {
   "codemirror_mode": {
    "name": "ipython",
    "version": 3
   },
   "file_extension": ".py",
   "mimetype": "text/x-python",
   "name": "python",
   "nbconvert_exporter": "python",
   "pygments_lexer": "ipython3",
   "version": "3.5.6"
  }
 },
 "nbformat": 4,
 "nbformat_minor": 2
}
